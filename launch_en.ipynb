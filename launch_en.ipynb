{
 "cells": [
  {
   "cell_type": "code",
   "execution_count": null,
   "metadata": {},
   "outputs": [],
   "source": [
    "!CUDA_VISIBLE_DEVICES=0 python train_en.py\\\n",
    "                 --cuda 1\\\n",
    "                 --train-data ./data/train_en_aug.csv\\\n",
    "                 --valid-data ./data/valid_en.csv\\\n",
    "                 --epoch 150\\\n",
    "                 --save-every 1\\\n",
    "                 --batch-size 100\\\n",
    "                 --parallel 0\\\n",
    "                 --patience 10\\\n",
    "                 --run 'run_en_data'\\\n",
    "                 --lr 0.0001\\\n",
    "                 --dropout 0.1"
   ]
  },
  {
   "cell_type": "code",
   "execution_count": null,
   "metadata": {},
   "outputs": [],
   "source": []
  }
 ],
 "metadata": {
  "kernelspec": {
   "display_name": "Python 3",
   "language": "python",
   "name": "python3"
  },
  "language_info": {
   "codemirror_mode": {
    "name": "ipython",
    "version": 3
   },
   "file_extension": ".py",
   "mimetype": "text/x-python",
   "name": "python",
   "nbconvert_exporter": "python",
   "pygments_lexer": "ipython3",
   "version": "3.6.5"
  }
 },
 "nbformat": 4,
 "nbformat_minor": 2
}
